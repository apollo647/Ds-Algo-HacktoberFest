{
 "cells": [
  {
   "cell_type": "code",
   "execution_count": 1,
   "metadata": {
    "_cell_guid": "b1076dfc-b9ad-4769-8c92-a6c4dae69d19",
    "_uuid": "8f2839f25d086af736a60e9eeb907d3b93b6e0e5",
    "execution": {
     "iopub.execute_input": "2020-09-20T10:37:36.772186Z",
     "iopub.status.busy": "2020-09-20T10:37:36.771359Z",
     "iopub.status.idle": "2020-09-20T10:37:46.900849Z",
     "shell.execute_reply": "2020-09-20T10:37:46.900181Z"
    },
    "papermill": {
     "duration": 10.157262,
     "end_time": "2020-09-20T10:37:46.901001",
     "exception": false,
     "start_time": "2020-09-20T10:37:36.743739",
     "status": "completed"
    },
    "tags": []
   },
   "outputs": [],
   "source": [
    "# This Python 3 environment comes with many helpful analytics libraries installed\n",
    "# It is defined by the kaggle/python Docker image: https://github.com/kaggle/docker-python\n",
    "# For example, here's several helpful packages to load\n",
    "\n",
    "import numpy as np # linear algebra\n",
    "import pandas as pd # data processing, CSV file I/O (e.g. pd.read_csv)\n",
    "\n",
    "# Input data files are available in the read-only \"../input/\" directory\n",
    "# For example, running this (by clicking run or pressing Shift+Enter) will list all files under the input directory\n",
    "\n",
    "import os\n",
    "for dirname, _, filenames in os.walk('/kaggle/input'):\n",
    "    for filename in filenames:\n",
    "        file = os.path.join(dirname, filename)\n",
    "\n",
    "# You can write up to 5GB to the current directory (/kaggle/working/) that gets preserved as output when you create a version using \"Save & Run All\" \n",
    "# You can also write temporary files to /kaggle/temp/, but they won't be saved outside of the current session"
   ]
  },
  {
   "cell_type": "markdown",
   "metadata": {
    "papermill": {
     "duration": 0.01997,
     "end_time": "2020-09-20T10:37:46.941137",
     "exception": false,
     "start_time": "2020-09-20T10:37:46.921167",
     "status": "completed"
    },
    "tags": []
   },
   "source": [
    "Importing necessary libraries."
   ]
  },
  {
   "cell_type": "code",
   "execution_count": 2,
   "metadata": {
    "execution": {
     "iopub.execute_input": "2020-09-20T10:37:46.986674Z",
     "iopub.status.busy": "2020-09-20T10:37:46.985878Z",
     "iopub.status.idle": "2020-09-20T10:37:52.372537Z",
     "shell.execute_reply": "2020-09-20T10:37:52.371307Z"
    },
    "papermill": {
     "duration": 5.411451,
     "end_time": "2020-09-20T10:37:52.372699",
     "exception": false,
     "start_time": "2020-09-20T10:37:46.961248",
     "status": "completed"
    },
    "tags": []
   },
   "outputs": [],
   "source": [
    "from tensorflow.keras.layers import Input, Dense, Flatten\n",
    "from keras import Model\n",
    "from keras.applications.vgg16 import VGG16\n",
    "from keras.preprocessing import image\n",
    "from keras.models import Sequential"
   ]
  },
  {
   "cell_type": "markdown",
   "metadata": {
    "papermill": {
     "duration": 0.020346,
     "end_time": "2020-09-20T10:37:52.412908",
     "exception": false,
     "start_time": "2020-09-20T10:37:52.392562",
     "status": "completed"
    },
    "tags": []
   },
   "source": [
    "As we are using VGG16 architecture, it expects the size of 224 by 224(Although, you can set your own size). We will set image size."
   ]
  },
  {
   "cell_type": "code",
   "execution_count": 3,
   "metadata": {
    "execution": {
     "iopub.execute_input": "2020-09-20T10:37:52.456957Z",
     "iopub.status.busy": "2020-09-20T10:37:52.456009Z",
     "iopub.status.idle": "2020-09-20T10:37:52.458602Z",
     "shell.execute_reply": "2020-09-20T10:37:52.459064Z"
    },
    "papermill": {
     "duration": 0.026744,
     "end_time": "2020-09-20T10:37:52.459182",
     "exception": false,
     "start_time": "2020-09-20T10:37:52.432438",
     "status": "completed"
    },
    "tags": []
   },
   "outputs": [],
   "source": [
    "image_size = [224, 224]"
   ]
  },
  {
   "cell_type": "code",
   "execution_count": 4,
   "metadata": {
    "execution": {
     "iopub.execute_input": "2020-09-20T10:37:52.506966Z",
     "iopub.status.busy": "2020-09-20T10:37:52.506312Z",
     "iopub.status.idle": "2020-09-20T10:37:56.313037Z",
     "shell.execute_reply": "2020-09-20T10:37:56.311804Z"
    },
    "papermill": {
     "duration": 3.833993,
     "end_time": "2020-09-20T10:37:56.313172",
     "exception": false,
     "start_time": "2020-09-20T10:37:52.479179",
     "status": "completed"
    },
    "tags": []
   },
   "outputs": [
    {
     "name": "stdout",
     "output_type": "stream",
     "text": [
      "Downloading data from https://storage.googleapis.com/tensorflow/keras-applications/vgg16/vgg16_weights_tf_dim_ordering_tf_kernels_notop.h5\n",
      "58892288/58889256 [==============================] - 1s 0us/step\n"
     ]
    }
   ],
   "source": [
    "vgg = VGG16(input_shape = image_size + [3], weights = 'imagenet', include_top =  False)"
   ]
  },
  {
   "cell_type": "markdown",
   "metadata": {
    "papermill": {
     "duration": 0.023479,
     "end_time": "2020-09-20T10:37:56.362257",
     "exception": false,
     "start_time": "2020-09-20T10:37:56.338778",
     "status": "completed"
    },
    "tags": []
   },
   "source": [
    "The first argument is the shape of input image plus **3**(as image is colured[RBG], for black_and_white add **1**).\n",
    "The second one is the weights eqaul to imagenet. And,\n",
    "as we know it gives 1000 outputs. Third one excludes the top layer."
   ]
  },
  {
   "cell_type": "code",
   "execution_count": 5,
   "metadata": {
    "execution": {
     "iopub.execute_input": "2020-09-20T10:37:56.417571Z",
     "iopub.status.busy": "2020-09-20T10:37:56.415598Z",
     "iopub.status.idle": "2020-09-20T10:37:56.418362Z",
     "shell.execute_reply": "2020-09-20T10:37:56.418933Z"
    },
    "papermill": {
     "duration": 0.032511,
     "end_time": "2020-09-20T10:37:56.419061",
     "exception": false,
     "start_time": "2020-09-20T10:37:56.386550",
     "status": "completed"
    },
    "tags": []
   },
   "outputs": [],
   "source": [
    "for layer in vgg.layers:\n",
    "    layer.trainable = False"
   ]
  },
  {
   "cell_type": "markdown",
   "metadata": {
    "papermill": {
     "duration": 0.023849,
     "end_time": "2020-09-20T10:37:56.466232",
     "exception": false,
     "start_time": "2020-09-20T10:37:56.442383",
     "status": "completed"
    },
    "tags": []
   },
   "source": [
    "Some of the layers of VGG16 are already trained. To train them again is not a good practice. Thereby making it False"
   ]
  },
  {
   "cell_type": "code",
   "execution_count": 6,
   "metadata": {
    "execution": {
     "iopub.execute_input": "2020-09-20T10:37:56.519247Z",
     "iopub.status.busy": "2020-09-20T10:37:56.518496Z",
     "iopub.status.idle": "2020-09-20T10:37:56.523516Z",
     "shell.execute_reply": "2020-09-20T10:37:56.522884Z"
    },
    "papermill": {
     "duration": 0.033156,
     "end_time": "2020-09-20T10:37:56.523614",
     "exception": false,
     "start_time": "2020-09-20T10:37:56.490458",
     "status": "completed"
    },
    "tags": []
   },
   "outputs": [],
   "source": [
    "from glob import glob\n",
    "folders = glob('/kaggle/input/tomato/New Plant Diseases Dataset(Augmented)/train/*')"
   ]
  },
  {
   "cell_type": "code",
   "execution_count": 7,
   "metadata": {
    "execution": {
     "iopub.execute_input": "2020-09-20T10:37:56.578930Z",
     "iopub.status.busy": "2020-09-20T10:37:56.577858Z",
     "iopub.status.idle": "2020-09-20T10:37:56.582179Z",
     "shell.execute_reply": "2020-09-20T10:37:56.582691Z"
    },
    "papermill": {
     "duration": 0.034818,
     "end_time": "2020-09-20T10:37:56.582841",
     "exception": false,
     "start_time": "2020-09-20T10:37:56.548023",
     "status": "completed"
    },
    "tags": []
   },
   "outputs": [
    {
     "data": {
      "text/plain": [
       "['/kaggle/input/tomato/New Plant Diseases Dataset(Augmented)/train/Tomato___healthy',\n",
       " '/kaggle/input/tomato/New Plant Diseases Dataset(Augmented)/train/Tomato___Target_Spot',\n",
       " '/kaggle/input/tomato/New Plant Diseases Dataset(Augmented)/train/Tomato___Early_blight',\n",
       " '/kaggle/input/tomato/New Plant Diseases Dataset(Augmented)/train/Tomato___Leaf_Mold',\n",
       " '/kaggle/input/tomato/New Plant Diseases Dataset(Augmented)/train/Tomato___Tomato_mosaic_virus',\n",
       " '/kaggle/input/tomato/New Plant Diseases Dataset(Augmented)/train/Tomato___Spider_mites Two-spotted_spider_mite',\n",
       " '/kaggle/input/tomato/New Plant Diseases Dataset(Augmented)/train/Tomato___Bacterial_spot',\n",
       " '/kaggle/input/tomato/New Plant Diseases Dataset(Augmented)/train/Tomato___Tomato_Yellow_Leaf_Curl_Virus',\n",
       " '/kaggle/input/tomato/New Plant Diseases Dataset(Augmented)/train/Tomato___Septoria_leaf_spot',\n",
       " '/kaggle/input/tomato/New Plant Diseases Dataset(Augmented)/train/Tomato___Late_blight']"
      ]
     },
     "execution_count": 7,
     "metadata": {},
     "output_type": "execute_result"
    }
   ],
   "source": [
    "folders\n"
   ]
  },
  {
   "cell_type": "markdown",
   "metadata": {
    "papermill": {
     "duration": 0.024875,
     "end_time": "2020-09-20T10:37:56.631965",
     "exception": false,
     "start_time": "2020-09-20T10:37:56.607090",
     "status": "completed"
    },
    "tags": []
   },
   "source": [
    "Flattening the output layer"
   ]
  },
  {
   "cell_type": "code",
   "execution_count": 8,
   "metadata": {
    "execution": {
     "iopub.execute_input": "2020-09-20T10:37:56.688402Z",
     "iopub.status.busy": "2020-09-20T10:37:56.687547Z",
     "iopub.status.idle": "2020-09-20T10:37:56.692709Z",
     "shell.execute_reply": "2020-09-20T10:37:56.692149Z"
    },
    "papermill": {
     "duration": 0.036074,
     "end_time": "2020-09-20T10:37:56.692818",
     "exception": false,
     "start_time": "2020-09-20T10:37:56.656744",
     "status": "completed"
    },
    "tags": []
   },
   "outputs": [],
   "source": [
    "x = Flatten()(vgg.output)"
   ]
  },
  {
   "cell_type": "code",
   "execution_count": 9,
   "metadata": {
    "execution": {
     "iopub.execute_input": "2020-09-20T10:37:56.749793Z",
     "iopub.status.busy": "2020-09-20T10:37:56.748800Z",
     "iopub.status.idle": "2020-09-20T10:37:56.758669Z",
     "shell.execute_reply": "2020-09-20T10:37:56.757795Z"
    },
    "papermill": {
     "duration": 0.040472,
     "end_time": "2020-09-20T10:37:56.758777",
     "exception": false,
     "start_time": "2020-09-20T10:37:56.718305",
     "status": "completed"
    },
    "tags": []
   },
   "outputs": [],
   "source": [
    "prediction = Dense(len(folders), activation = 'softmax')(x)"
   ]
  },
  {
   "cell_type": "code",
   "execution_count": 10,
   "metadata": {
    "execution": {
     "iopub.execute_input": "2020-09-20T10:37:56.816405Z",
     "iopub.status.busy": "2020-09-20T10:37:56.815179Z",
     "iopub.status.idle": "2020-09-20T10:37:56.826123Z",
     "shell.execute_reply": "2020-09-20T10:37:56.826690Z"
    },
    "papermill": {
     "duration": 0.042642,
     "end_time": "2020-09-20T10:37:56.826820",
     "exception": false,
     "start_time": "2020-09-20T10:37:56.784178",
     "status": "completed"
    },
    "tags": []
   },
   "outputs": [],
   "source": [
    "model = Model(inputs = vgg.input, outputs = prediction)"
   ]
  },
  {
   "cell_type": "code",
   "execution_count": 11,
   "metadata": {
    "execution": {
     "iopub.execute_input": "2020-09-20T10:37:56.885331Z",
     "iopub.status.busy": "2020-09-20T10:37:56.881617Z",
     "iopub.status.idle": "2020-09-20T10:37:56.896452Z",
     "shell.execute_reply": "2020-09-20T10:37:56.897158Z"
    },
    "papermill": {
     "duration": 0.044558,
     "end_time": "2020-09-20T10:37:56.897317",
     "exception": false,
     "start_time": "2020-09-20T10:37:56.852759",
     "status": "completed"
    },
    "tags": []
   },
   "outputs": [
    {
     "name": "stdout",
     "output_type": "stream",
     "text": [
      "Model: \"functional_1\"\n",
      "_________________________________________________________________\n",
      "Layer (type)                 Output Shape              Param #   \n",
      "=================================================================\n",
      "input_1 (InputLayer)         [(None, 224, 224, 3)]     0         \n",
      "_________________________________________________________________\n",
      "block1_conv1 (Conv2D)        (None, 224, 224, 64)      1792      \n",
      "_________________________________________________________________\n",
      "block1_conv2 (Conv2D)        (None, 224, 224, 64)      36928     \n",
      "_________________________________________________________________\n",
      "block1_pool (MaxPooling2D)   (None, 112, 112, 64)      0         \n",
      "_________________________________________________________________\n",
      "block2_conv1 (Conv2D)        (None, 112, 112, 128)     73856     \n",
      "_________________________________________________________________\n",
      "block2_conv2 (Conv2D)        (None, 112, 112, 128)     147584    \n",
      "_________________________________________________________________\n",
      "block2_pool (MaxPooling2D)   (None, 56, 56, 128)       0         \n",
      "_________________________________________________________________\n",
      "block3_conv1 (Conv2D)        (None, 56, 56, 256)       295168    \n",
      "_________________________________________________________________\n",
      "block3_conv2 (Conv2D)        (None, 56, 56, 256)       590080    \n",
      "_________________________________________________________________\n",
      "block3_conv3 (Conv2D)        (None, 56, 56, 256)       590080    \n",
      "_________________________________________________________________\n",
      "block3_pool (MaxPooling2D)   (None, 28, 28, 256)       0         \n",
      "_________________________________________________________________\n",
      "block4_conv1 (Conv2D)        (None, 28, 28, 512)       1180160   \n",
      "_________________________________________________________________\n",
      "block4_conv2 (Conv2D)        (None, 28, 28, 512)       2359808   \n",
      "_________________________________________________________________\n",
      "block4_conv3 (Conv2D)        (None, 28, 28, 512)       2359808   \n",
      "_________________________________________________________________\n",
      "block4_pool (MaxPooling2D)   (None, 14, 14, 512)       0         \n",
      "_________________________________________________________________\n",
      "block5_conv1 (Conv2D)        (None, 14, 14, 512)       2359808   \n",
      "_________________________________________________________________\n",
      "block5_conv2 (Conv2D)        (None, 14, 14, 512)       2359808   \n",
      "_________________________________________________________________\n",
      "block5_conv3 (Conv2D)        (None, 14, 14, 512)       2359808   \n",
      "_________________________________________________________________\n",
      "block5_pool (MaxPooling2D)   (None, 7, 7, 512)         0         \n",
      "_________________________________________________________________\n",
      "flatten (Flatten)            (None, 25088)             0         \n",
      "_________________________________________________________________\n",
      "dense (Dense)                (None, 10)                250890    \n",
      "=================================================================\n",
      "Total params: 14,965,578\n",
      "Trainable params: 250,890\n",
      "Non-trainable params: 14,714,688\n",
      "_________________________________________________________________\n"
     ]
    }
   ],
   "source": [
    "model.summary()"
   ]
  },
  {
   "cell_type": "markdown",
   "metadata": {
    "papermill": {
     "duration": 0.025791,
     "end_time": "2020-09-20T10:37:56.950086",
     "exception": false,
     "start_time": "2020-09-20T10:37:56.924295",
     "status": "completed"
    },
    "tags": []
   },
   "source": [
    "Compiling the model"
   ]
  },
  {
   "cell_type": "code",
   "execution_count": 12,
   "metadata": {
    "execution": {
     "iopub.execute_input": "2020-09-20T10:37:57.014692Z",
     "iopub.status.busy": "2020-09-20T10:37:57.013549Z",
     "iopub.status.idle": "2020-09-20T10:37:57.020451Z",
     "shell.execute_reply": "2020-09-20T10:37:57.020970Z"
    },
    "papermill": {
     "duration": 0.044834,
     "end_time": "2020-09-20T10:37:57.021095",
     "exception": false,
     "start_time": "2020-09-20T10:37:56.976261",
     "status": "completed"
    },
    "tags": []
   },
   "outputs": [],
   "source": [
    "model.compile(loss = 'categorical_crossentropy', optimizer = 'adam', metrics = ['accuracy'])"
   ]
  },
  {
   "cell_type": "markdown",
   "metadata": {
    "papermill": {
     "duration": 0.025994,
     "end_time": "2020-09-20T10:37:57.073205",
     "exception": false,
     "start_time": "2020-09-20T10:37:57.047211",
     "status": "completed"
    },
    "tags": []
   },
   "source": [
    "Generating more images"
   ]
  },
  {
   "cell_type": "code",
   "execution_count": 13,
   "metadata": {
    "execution": {
     "iopub.execute_input": "2020-09-20T10:37:57.131472Z",
     "iopub.status.busy": "2020-09-20T10:37:57.130569Z",
     "iopub.status.idle": "2020-09-20T10:37:57.135737Z",
     "shell.execute_reply": "2020-09-20T10:37:57.135134Z"
    },
    "papermill": {
     "duration": 0.035462,
     "end_time": "2020-09-20T10:37:57.135844",
     "exception": false,
     "start_time": "2020-09-20T10:37:57.100382",
     "status": "completed"
    },
    "tags": []
   },
   "outputs": [],
   "source": [
    "from keras.preprocessing.image import ImageDataGenerator"
   ]
  },
  {
   "cell_type": "code",
   "execution_count": 14,
   "metadata": {
    "execution": {
     "iopub.execute_input": "2020-09-20T10:37:57.194136Z",
     "iopub.status.busy": "2020-09-20T10:37:57.192140Z",
     "iopub.status.idle": "2020-09-20T10:37:57.194910Z",
     "shell.execute_reply": "2020-09-20T10:37:57.195471Z"
    },
    "papermill": {
     "duration": 0.033917,
     "end_time": "2020-09-20T10:37:57.195585",
     "exception": false,
     "start_time": "2020-09-20T10:37:57.161668",
     "status": "completed"
    },
    "tags": []
   },
   "outputs": [],
   "source": [
    "train_data_gen = ImageDataGenerator(rescale = 1./255, shear_range = 0.2, zoom_range = 0.2, horizontal_flip = True)"
   ]
  },
  {
   "cell_type": "code",
   "execution_count": 15,
   "metadata": {
    "execution": {
     "iopub.execute_input": "2020-09-20T10:37:57.253582Z",
     "iopub.status.busy": "2020-09-20T10:37:57.252894Z",
     "iopub.status.idle": "2020-09-20T10:37:57.256858Z",
     "shell.execute_reply": "2020-09-20T10:37:57.257360Z"
    },
    "papermill": {
     "duration": 0.035287,
     "end_time": "2020-09-20T10:37:57.257489",
     "exception": false,
     "start_time": "2020-09-20T10:37:57.222202",
     "status": "completed"
    },
    "tags": []
   },
   "outputs": [],
   "source": [
    "test_data_gen = ImageDataGenerator(rescale = 1./255)"
   ]
  },
  {
   "cell_type": "code",
   "execution_count": 16,
   "metadata": {
    "execution": {
     "iopub.execute_input": "2020-09-20T10:37:57.316411Z",
     "iopub.status.busy": "2020-09-20T10:37:57.315501Z",
     "iopub.status.idle": "2020-09-20T10:37:58.090093Z",
     "shell.execute_reply": "2020-09-20T10:37:58.090988Z"
    },
    "papermill": {
     "duration": 0.806862,
     "end_time": "2020-09-20T10:37:58.091192",
     "exception": false,
     "start_time": "2020-09-20T10:37:57.284330",
     "status": "completed"
    },
    "tags": []
   },
   "outputs": [
    {
     "name": "stdout",
     "output_type": "stream",
     "text": [
      "Found 18345 images belonging to 10 classes.\n"
     ]
    }
   ],
   "source": [
    "train_set = train_data_gen.flow_from_directory('/kaggle/input/tomato/New Plant Diseases Dataset(Augmented)/train/', target_size = (224,224), batch_size = 32, class_mode = 'categorical')"
   ]
  },
  {
   "cell_type": "code",
   "execution_count": 17,
   "metadata": {
    "execution": {
     "iopub.execute_input": "2020-09-20T10:37:58.263932Z",
     "iopub.status.busy": "2020-09-20T10:37:58.262819Z",
     "iopub.status.idle": "2020-09-20T10:37:58.489192Z",
     "shell.execute_reply": "2020-09-20T10:37:58.490083Z"
    },
    "papermill": {
     "duration": 0.368414,
     "end_time": "2020-09-20T10:37:58.490266",
     "exception": false,
     "start_time": "2020-09-20T10:37:58.121852",
     "status": "completed"
    },
    "tags": []
   },
   "outputs": [
    {
     "name": "stdout",
     "output_type": "stream",
     "text": [
      "Found 4585 images belonging to 10 classes.\n"
     ]
    }
   ],
   "source": [
    "test_set = test_data_gen.flow_from_directory('/kaggle/input/tomato/New Plant Diseases Dataset(Augmented)/valid/', target_size = (224,224), batch_size = 32, class_mode = 'categorical')"
   ]
  },
  {
   "cell_type": "markdown",
   "metadata": {
    "papermill": {
     "duration": 0.028092,
     "end_time": "2020-09-20T10:37:58.547099",
     "exception": false,
     "start_time": "2020-09-20T10:37:58.519007",
     "status": "completed"
    },
    "tags": []
   },
   "source": [
    "Fitting the model"
   ]
  },
  {
   "cell_type": "code",
   "execution_count": 18,
   "metadata": {
    "execution": {
     "iopub.execute_input": "2020-09-20T10:37:58.609578Z",
     "iopub.status.busy": "2020-09-20T10:37:58.608478Z",
     "iopub.status.idle": "2020-09-20T11:28:02.898504Z",
     "shell.execute_reply": "2020-09-20T11:28:02.899076Z"
    },
    "papermill": {
     "duration": 3004.324279,
     "end_time": "2020-09-20T11:28:02.899252",
     "exception": false,
     "start_time": "2020-09-20T10:37:58.574973",
     "status": "completed"
    },
    "tags": []
   },
   "outputs": [
    {
     "name": "stdout",
     "output_type": "stream",
     "text": [
      "Epoch 1/10\n",
      "574/574 [==============================] - 348s 607ms/step - loss: 0.7429 - accuracy: 0.7550 - val_loss: 0.5166 - val_accuracy: 0.8349\n",
      "Epoch 2/10\n",
      "574/574 [==============================] - 278s 485ms/step - loss: 0.4366 - accuracy: 0.8546 - val_loss: 0.4244 - val_accuracy: 0.8637\n",
      "Epoch 3/10\n",
      "574/574 [==============================] - 278s 484ms/step - loss: 0.3265 - accuracy: 0.8908 - val_loss: 0.5408 - val_accuracy: 0.8262\n",
      "Epoch 4/10\n",
      "574/574 [==============================] - 279s 487ms/step - loss: 0.2932 - accuracy: 0.9013 - val_loss: 0.2751 - val_accuracy: 0.9115\n",
      "Epoch 5/10\n",
      "574/574 [==============================] - 279s 486ms/step - loss: 0.2678 - accuracy: 0.9112 - val_loss: 0.4205 - val_accuracy: 0.8713\n",
      "Epoch 6/10\n",
      "574/574 [==============================] - 277s 483ms/step - loss: 0.2279 - accuracy: 0.9236 - val_loss: 0.2437 - val_accuracy: 0.9250\n",
      "Epoch 7/10\n",
      "574/574 [==============================] - 286s 498ms/step - loss: 0.2140 - accuracy: 0.9295 - val_loss: 0.4696 - val_accuracy: 0.8585\n",
      "Epoch 8/10\n",
      "574/574 [==============================] - 307s 535ms/step - loss: 0.2170 - accuracy: 0.9280 - val_loss: 0.3607 - val_accuracy: 0.8940\n",
      "Epoch 9/10\n",
      "574/574 [==============================] - 280s 487ms/step - loss: 0.2155 - accuracy: 0.9309 - val_loss: 0.3837 - val_accuracy: 0.9008\n",
      "Epoch 10/10\n",
      "574/574 [==============================] - 380s 661ms/step - loss: 0.2019 - accuracy: 0.9375 - val_loss: 0.3807 - val_accuracy: 0.8971\n"
     ]
    }
   ],
   "source": [
    "mod = model.fit_generator(\n",
    "  train_set,\n",
    "  validation_data=test_set,\n",
    "  epochs=10,\n",
    "  steps_per_epoch=len(train_set),\n",
    "  validation_steps=len(test_set)\n",
    ")"
   ]
  },
  {
   "cell_type": "code",
   "execution_count": 19,
   "metadata": {
    "execution": {
     "iopub.execute_input": "2020-09-20T11:28:07.393901Z",
     "iopub.status.busy": "2020-09-20T11:28:07.392833Z",
     "iopub.status.idle": "2020-09-20T11:28:07.678415Z",
     "shell.execute_reply": "2020-09-20T11:28:07.677205Z"
    },
    "papermill": {
     "duration": 2.600401,
     "end_time": "2020-09-20T11:28:07.678551",
     "exception": false,
     "start_time": "2020-09-20T11:28:05.078150",
     "status": "completed"
    },
    "tags": []
   },
   "outputs": [
    {
     "data": {
      "image/png": "[encoded data removed]",
      "text/plain": [
       "<Figure size 432x288 with 1 Axes>"
      ]
     },
     "metadata": {
      "needs_background": "light"
     },
     "output_type": "display_data"
    }
   ],
   "source": [
    "import matplotlib.pyplot as plt\n",
    "plt.plot(mod.history['loss'], label='train loss')\n",
    "plt.plot(mod.history['val_loss'], label='val loss')\n",
    "plt.legend()\n",
    "plt.show()\n",
    "\n"
   ]
  },
  {
   "cell_type": "code",
   "execution_count": 20,
   "metadata": {
    "execution": {
     "iopub.execute_input": "2020-09-20T11:28:12.667132Z",
     "iopub.status.busy": "2020-09-20T11:28:12.665958Z",
     "iopub.status.idle": "2020-09-20T11:28:12.870011Z",
     "shell.execute_reply": "2020-09-20T11:28:12.870704Z"
    },
    "papermill": {
     "duration": 2.618681,
     "end_time": "2020-09-20T11:28:12.870893",
     "exception": false,
     "start_time": "2020-09-20T11:28:10.252212",
     "status": "completed"
    },
    "tags": []
   },
   "outputs": [
    {
     "data": {
      "image/png": "[encoded data removed]",
      "text/plain": [
       "<Figure size 432x288 with 1 Axes>"
      ]
     },
     "metadata": {
      "needs_background": "light"
     },
     "output_type": "display_data"
    }
   ],
   "source": [
    "plt.plot(mod.history['accuracy'], label='train accuracy')\n",
    "plt.plot(mod.history['val_accuracy'], label='val_accuracy')\n",
    "plt.legend()\n",
    "plt.show()"
   ]
  },
  {
   "cell_type": "code",
   "execution_count": null,
   "metadata": {
    "papermill": {
     "duration": 2.61561,
     "end_time": "2020-09-20T11:28:17.922413",
     "exception": false,
     "start_time": "2020-09-20T11:28:15.306803",
     "status": "completed"
    },
    "tags": []
   },
   "outputs": [],
   "source": []
  }
 ],
 "metadata": {
  "kernelspec": {
   "display_name": "Python 3",
   "language": "python",
   "name": "python3"
  },
  "language_info": {
   "codemirror_mode": {
    "name": "ipython",
    "version": 3
   },
   "file_extension": ".py",
   "mimetype": "text/x-python",
   "name": "python",
   "nbconvert_exporter": "python",
   "pygments_lexer": "ipython3",
   "version": "3.7.6"
  },
  "papermill": {
   "duration": 3049.330947,
   "end_time": "2020-09-20T11:28:21.827072",
   "environment_variables": {},
   "exception": null,
   "input_path": "__notebook__.ipynb",
   "output_path": "__notebook__.ipynb",
   "parameters": {},
   "start_time": "2020-09-20T10:37:32.496125",
   "version": "2.1.0"
  }
 },
 "nbformat": 4,
 "nbformat_minor": 4
}
